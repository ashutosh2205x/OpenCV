{
 "cells": [
  {
   "cell_type": "code",
   "execution_count": 6,
   "metadata": {},
   "outputs": [],
   "source": [
    "import cv2\n",
    "\n",
    "capture= cv2.VideoCapture(0)  #captruing default web-camera\n",
    "\n",
    "writer = cv2.VideoWriter('myvid.mp4', cv2.VideoWriter_fourcc(*'DIVX'),20, (width, height)) #saving file and CODEC as well .  for windows -> DIVX , for other  XVID \n",
    "\n",
    "width =int(capture.get(cv2.CAP_PROP_FRAME_WIDTH)) #1080.0\n",
    "height =int(capture.get(cv2.CAP_PROP_FRAME_HEIGHT) )\n",
    "\n",
    "while True:\n",
    "    ret, frame = capture.read()\n",
    "#     gray =cv2.cvtColor(frame, cv2.COLOR_BGR2GRAY)\n",
    "    cv2.imshow('frame',  frame)\n",
    "    \n",
    "    \n",
    "    #writing\n",
    "    writer.write(frame)\n",
    "    \n",
    "    if(cv2.waitKey(1) & 0xFF ==27):\n",
    "        break\n",
    "    \n",
    "capture.release()\n",
    "writer.release()\n",
    "cv2.destroyAllWindows()"
   ]
  },
  {
   "cell_type": "code",
   "execution_count": 4,
   "metadata": {},
   "outputs": [
    {
     "data": {
      "text/plain": [
       "'C:\\\\Users\\\\ashutosh\\\\Desktop\\\\OpenCV'"
      ]
     },
     "execution_count": 4,
     "metadata": {},
     "output_type": "execute_result"
    }
   ],
   "source": [
    "pwd"
   ]
  },
  {
   "cell_type": "code",
   "execution_count": null,
   "metadata": {},
   "outputs": [],
   "source": []
  }
 ],
 "metadata": {
  "kernelspec": {
   "display_name": "Python 3",
   "language": "python",
   "name": "python3"
  },
  "language_info": {
   "codemirror_mode": {
    "name": "ipython",
    "version": 3
   },
   "file_extension": ".py",
   "mimetype": "text/x-python",
   "name": "python",
   "nbconvert_exporter": "python",
   "pygments_lexer": "ipython3",
   "version": "3.7.6"
  }
 },
 "nbformat": 4,
 "nbformat_minor": 4
}
