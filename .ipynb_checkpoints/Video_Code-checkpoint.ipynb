{
 "cells": [
  {
   "cell_type": "code",
   "execution_count": null,
   "id": "d4d5a12a",
   "metadata": {},
   "outputs": [],
   "source": [
    "import cv2\n",
    "# capture video from cam\n",
    "capt = cv2.VideoCapture(0) \n",
    "\n",
    "# manage window dimensions\n",
    "width = int(capt.get(cv2.CAP_PROP_FRAME_WIDTH))\n",
    "height = int(capt.get(cv2.CAP_PROP_FRAME_HEIGHT))\n",
    "\n",
    "# creating video writer object to save video object with video codec, *'XVID'->MAC, *'DIVX'->WIN, frame rate, video dimesions-> width & height\n",
    "videocapt = cv2.VideoWriter('name_of_vid.mp4', cv2.VideoWriter_fourcc(*'XVID'))\n",
    "while True:\n",
    "#     read frame from video capture object\n",
    "    ret, frame = capt.read()\n",
    "    \n",
    "#     OPTIONAL color conversion \n",
    "    gray = cv2.cvtColor(frame,cv2.COLOR_BGR2GRAY)\n",
    "    \n",
    "#     displaying video file\n",
    "    cv2.imshow('frame',frame)\n",
    "    \n",
    "#     exiting\n",
    "    if cv2.waitKey(1) & 0xFF== 27:\n",
    "        break\n",
    "\n",
    "#   destroying video object and window \n",
    "capt.release()\n",
    "cv2.destroyAllWindows()"
   ]
  },
  {
   "cell_type": "code",
   "execution_count": null,
   "id": "82cea856",
   "metadata": {},
   "outputs": [],
   "source": []
  }
 ],
 "metadata": {
  "kernelspec": {
   "display_name": "Python 3",
   "language": "python",
   "name": "python3"
  },
  "language_info": {
   "codemirror_mode": {
    "name": "ipython",
    "version": 3
   },
   "file_extension": ".py",
   "mimetype": "text/x-python",
   "name": "python",
   "nbconvert_exporter": "python",
   "pygments_lexer": "ipython3",
   "version": "3.6.6"
  }
 },
 "nbformat": 4,
 "nbformat_minor": 5
}
