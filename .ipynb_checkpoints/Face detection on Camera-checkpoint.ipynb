{
 "cells": [
  {
   "cell_type": "code",
   "execution_count": null,
   "id": "e8e78190",
   "metadata": {},
   "outputs": [],
   "source": [
    "import cv2\n",
    "import matplotlib.pyplot as plt\n",
    "import numpy as np\n",
    "%matplotlib inline\n",
    "\n",
    "cap = cv2.VideoCapture(0)\n",
    "face_cascade = cv2.CascadeClassifier('./ASSETS/haarcascade_frontalface_default.xml')\n",
    "# eye_cascade = cv2.CascadeClassifier('./ASSETS/haarcascade_eye.xml')\n",
    "\n",
    "def detect_face(img):\n",
    "    face_img = img.copy()\n",
    "#     x1,x2 y1,y2 positions of detected faces\n",
    "    face_rects = face_cascade.detectMultiScale(face_img,scaleFactor = 1.2, minNeighbors=10)\n",
    "#     eye_rects = eye_cascade.detectMultiScale(face_img, scaleFactor = 1.2, minNeighbors=10)\n",
    "\n",
    "    for(x,y,x1,y1) in face_rects:\n",
    "        cv2.rectangle(face_img,(x,y),(x+x1, y+y1),(0,0,255),5)\n",
    "    return face_img\n",
    "\n",
    "while True:\n",
    "    ret,frame = cap.read(0)\n",
    "    frame = detect_face(frame)\n",
    "    cv2.imshow('Video Face Detect',frame)\n",
    "    \n",
    "    if cv2.waitKey(1) & 0xFF== 27:\n",
    "        break\n",
    "        \n",
    "cap.release()\n",
    "cv2.destroyAllWindows()"
   ]
  },
  {
   "cell_type": "code",
   "execution_count": null,
   "id": "3a43e63b",
   "metadata": {},
   "outputs": [],
   "source": []
  }
 ],
 "metadata": {
  "kernelspec": {
   "display_name": "Python 3",
   "language": "python",
   "name": "python3"
  },
  "language_info": {
   "codemirror_mode": {
    "name": "ipython",
    "version": 3
   },
   "file_extension": ".py",
   "mimetype": "text/x-python",
   "name": "python",
   "nbconvert_exporter": "python",
   "pygments_lexer": "ipython3",
   "version": "3.6.13"
  }
 },
 "nbformat": 4,
 "nbformat_minor": 5
}
