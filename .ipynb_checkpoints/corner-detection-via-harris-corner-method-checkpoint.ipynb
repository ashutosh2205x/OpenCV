{
 "cells": [
  {
   "cell_type": "code",
   "execution_count": 1,
   "metadata": {},
   "outputs": [
    {
     "ename": "ModuleNotFoundError",
     "evalue": "No module named 'matplotlib'",
     "output_type": "error",
     "traceback": [
      "\u001b[0;31m---------------------------------------------------------------------------\u001b[0m",
      "\u001b[0;31mModuleNotFoundError\u001b[0m                       Traceback (most recent call last)",
      "\u001b[0;32m<ipython-input-1-2dd8b786862a>\u001b[0m in \u001b[0;36m<module>\u001b[0;34m\u001b[0m\n\u001b[1;32m      1\u001b[0m \u001b[0;32mimport\u001b[0m \u001b[0mcv2\u001b[0m\u001b[0;34m\u001b[0m\u001b[0m\n\u001b[1;32m      2\u001b[0m \u001b[0;32mimport\u001b[0m \u001b[0mnumpy\u001b[0m \u001b[0;32mas\u001b[0m \u001b[0mnp\u001b[0m\u001b[0;34m\u001b[0m\u001b[0m\n\u001b[0;32m----> 3\u001b[0;31m \u001b[0;32mimport\u001b[0m \u001b[0mmatplotlib\u001b[0m\u001b[0;34m.\u001b[0m\u001b[0mpyplot\u001b[0m \u001b[0;32mas\u001b[0m \u001b[0mplt\u001b[0m\u001b[0;34m\u001b[0m\u001b[0m\n\u001b[0m\u001b[1;32m      4\u001b[0m \u001b[0mget_ipython\u001b[0m\u001b[0;34m(\u001b[0m\u001b[0;34m)\u001b[0m\u001b[0;34m.\u001b[0m\u001b[0mrun_line_magic\u001b[0m\u001b[0;34m(\u001b[0m\u001b[0;34m'matplotlib'\u001b[0m\u001b[0;34m,\u001b[0m \u001b[0;34m'inline'\u001b[0m\u001b[0;34m)\u001b[0m\u001b[0;34m\u001b[0m\u001b[0m\n",
      "\u001b[0;31mModuleNotFoundError\u001b[0m: No module named 'matplotlib'"
     ]
    }
   ],
   "source": [
    "import cv2\n",
    "import numpy as np\n",
    "import matplotlib.pyplot as plt\n",
    "%matplotlib inline"
   ]
  },
  {
   "cell_type": "code",
   "execution_count": null,
   "metadata": {
    "scrolled": true
   },
   "outputs": [],
   "source": [
    "chess= cv2.imread('./ASSETS/chess.jpg') #flat image\n",
    "chess= cv2.cvtColor(chess, cv2.COLOR_BGR2RGB)\n",
    "\n",
    "#convert into grayscale\n",
    "gray = cv2.cvtColor(chess, cv2.COLOR_RGB2GRAY)\n",
    "# plt.imshow(gray, cmap= 'gray')"
   ]
  },
  {
   "cell_type": "code",
   "execution_count": null,
   "metadata": {},
   "outputs": [],
   "source": [
    "gray_obj = np.float32(gray)\n",
    "\n",
    "dst =cv2.cornerHarris(src=gray_obj, blockSize=5, ksize=3, k=0.04) #k=0.04 is default\n",
    "\n",
    "#dilating for markup\n",
    "dst= cv2.dilate(dst, None)\n",
    "\n",
    "#marking with color if value > threshold\n",
    "chess[dst> 0.01*dst.max()] = [255,0,0]\n",
    "\n",
    "plt.subplot(121)\n",
    "plt.imshow(chess)\n",
    "plt.title('corners marked red')\n",
    "\n",
    "plt.subplot(122)\n",
    "plt.title('visible corners')\n",
    "plt.imshow(dst)\n"
   ]
  },
  {
   "cell_type": "code",
   "execution_count": null,
   "metadata": {},
   "outputs": [],
   "source": [
    "real_chess= cv2.imread('./ASSETS/real_chess.jpg')\n",
    "real_chess = cv2.cvtColor(real_chess, cv2.COLOR_BGR2RGB)\n",
    "gray_real_chess= cv2.cvtColor(real_chess, cv2.COLOR_BGR2GRAY)\n",
    "plt.imshow(gray_real_chess, cmap='gray')\n",
    "\n",
    "gray_obj = np.float32(gray_real_chess)\n",
    "\n",
    "dst =cv2.cornerHarris(src=gray_obj, blockSize=5, ksize=3, k=0.04) #k=0.04 is default\n",
    "\n",
    "#dilating for markup\n",
    "dst= cv2.dilate(dst, None)\n",
    "\n",
    "#marking with color if value > threshold\n",
    "real_chess[dst> 0.01*dst.max()] = [255,0,0]\n",
    "\n",
    "plt.subplot(121)\n",
    "plt.imshow(real_chess)\n",
    "plt.title('corners marked red')\n",
    "\n",
    "plt.subplot(122)\n",
    "plt.title('visible corners')\n",
    "plt.imshow(dst)\n"
   ]
  },
  {
   "cell_type": "code",
   "execution_count": null,
   "metadata": {},
   "outputs": [],
   "source": []
  }
 ],
 "metadata": {
  "kernelspec": {
   "display_name": "Python 3",
   "language": "python",
   "name": "python3"
  },
  "language_info": {
   "codemirror_mode": {
    "name": "ipython",
    "version": 3
   },
   "file_extension": ".py",
   "mimetype": "text/x-python",
   "name": "python",
   "nbconvert_exporter": "python",
   "pygments_lexer": "ipython3",
   "version": "3.6.6"
  }
 },
 "nbformat": 4,
 "nbformat_minor": 4
}
