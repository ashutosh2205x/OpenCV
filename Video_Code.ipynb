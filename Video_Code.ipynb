{
 "cells": [
  {
   "cell_type": "code",
   "execution_count": 3,
   "id": "1306ca24",
   "metadata": {},
   "outputs": [],
   "source": [
    "import cv2\n",
    "# capture video from cam\n",
    "capt = cv2.VideoCapture(0) \n",
    "\n",
    "# manage window dimensions\n",
    "width = int(capt.get(cv2.CAP_PROP_FRAME_WIDTH))\n",
    "height = int(capt.get(cv2.CAP_PROP_FRAME_HEIGHT))\n",
    "\n",
    "# creating video writer object to save video object with video codec, *'XVID'->MAC, *'DIVX'->WIN, frame rate, video dimesions-> width & height\n",
    "writer = cv2.VideoWriter('name_of_vid.mp4', cv2.VideoWriter_fourcc(*'XVID'), 30, (width, height))\n",
    "while True:\n",
    "#     read frame from video capture object\n",
    "    ret, frame = capt.read()\n",
    "    \n",
    "#     VIDEO Writing\n",
    "    writer.write(frame)\n",
    "    \n",
    "#     OPTIONAL color conversion \n",
    "    gray = cv2.cvtColor(frame,cv2.COLOR_BGR2GRAY)\n",
    "    \n",
    "#     displaying video file\n",
    "    cv2.imshow('frame',frame)\n",
    "    \n",
    "#     exiting\n",
    "    if cv2.waitKey(1) & 0xFF== 27:\n",
    "        break\n",
    "\n",
    "#   destroying video object and window \n",
    "capt.release()\n",
    "writer.release()\n",
    "cv2.destroyWindow()"
   ]
  },
  {
   "cell_type": "code",
   "execution_count": 2,
   "id": "f21be90c",
   "metadata": {},
   "outputs": [],
   "source": [
    "# DRAWING ON LIVE CAM\n",
    "import cv2\n",
    "cap = cv2.VideoCapture(0) \n",
    "\n",
    "# manage window dimensions\n",
    "width = int(cap.get(cv2.CAP_PROP_FRAME_WIDTH))\n",
    "height = int(cap.get(cv2.CAP_PROP_FRAME_HEIGHT))\n",
    "\n",
    "# top left\n",
    "x = width//2\n",
    "y = height//2\n",
    "\n",
    "#dimensions of the actual rectangle \n",
    "w = width//4\n",
    "h = height//4\n",
    "\n",
    "# bottom right -> x+w, y+h\n",
    "while True:\n",
    "        ret, frame = cap.read()\n",
    "        \n",
    "        cv2.rectangle(frame,(x,y),(x+w, y+h), color=(0,0,255), thickness=2)\n",
    "        \n",
    "        cv2.imshow('frame',frame)\n",
    "        \n",
    "        if cv2.waitKey(10) & 0xFF == ord('q'):\n",
    "            break\n",
    "\n",
    "cap.release()\n",
    "cv2.destroyAllWindows()\n"
   ]
  },
  {
   "cell_type": "code",
   "execution_count": null,
   "id": "83bdde96",
   "metadata": {},
   "outputs": [],
   "source": []
  }
 ],
 "metadata": {
  "kernelspec": {
   "display_name": "Python 3",
   "language": "python",
   "name": "python3"
  },
  "language_info": {
   "codemirror_mode": {
    "name": "ipython",
    "version": 3
   },
   "file_extension": ".py",
   "mimetype": "text/x-python",
   "name": "python",
   "nbconvert_exporter": "python",
   "pygments_lexer": "ipython3",
   "version": "3.6.6"
  }
 },
 "nbformat": 4,
 "nbformat_minor": 5
}
