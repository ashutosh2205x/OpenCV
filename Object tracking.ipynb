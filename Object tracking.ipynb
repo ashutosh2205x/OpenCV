{
 "cells": [
  {
   "cell_type": "code",
   "execution_count": 1,
   "id": "e7c8bbfe",
   "metadata": {},
   "outputs": [],
   "source": [
    "# Basics - optical flow, meanshift and camshift "
   ]
  },
  {
   "cell_type": "code",
   "execution_count": 3,
   "id": "f3f24c24",
   "metadata": {},
   "outputs": [],
   "source": [
    "# Lucas - kanade method\n",
    "import cv2\n",
    "import numpy as np\n",
    "\n",
    "corner_track = dict(maxCorners=10, qualityLevel=0.3, minDistance=7,blockSize=7)\n",
    "lk_params = dict(winSize=(200,200),maxLevel=2, criteria=(cv2.TERM_CRITERIA_EPS | cv2.TERM_CRITERIA_COUNT,10,0.03))\n",
    "\n",
    "cap =cv2.VideoCapture(0)\n",
    "\n",
    "ret,prev_frame = cap.read()\n",
    "\n",
    "prev_gray= cv2.cvtColor(prev_frame, cv2.COLOR_BGR2GRAY)\n",
    "\n",
    "prevpts = cv2.goodFeaturesToTrack(prev_gray,mask=None, **corner_track)\n",
    "\n",
    "mask = np.zeros_likes(prev_frame)\n",
    "\n",
    "while(1):\n",
    "    \n",
    "    ret, frame = cap.read()\n",
    "    \n",
    "    frame_gray= cv2.cvtColor(frame, cv2.COLOR_BGR2GRAY)\n",
    "    \n",
    "    nextpts ,status, err = cv2.calcOpticalFlowPyrLK(prev_gray,frame_gray,prevpts, None, **lk_params)\n",
    "    \n",
    "    \n"
   ]
  },
  {
   "cell_type": "code",
   "execution_count": null,
   "id": "e681d09a",
   "metadata": {},
   "outputs": [],
   "source": []
  }
 ],
 "metadata": {
  "kernelspec": {
   "display_name": "Python 3",
   "language": "python",
   "name": "python3"
  },
  "language_info": {
   "codemirror_mode": {
    "name": "ipython",
    "version": 3
   },
   "file_extension": ".py",
   "mimetype": "text/x-python",
   "name": "python",
   "nbconvert_exporter": "python",
   "pygments_lexer": "ipython3",
   "version": "3.6.13"
  }
 },
 "nbformat": 4,
 "nbformat_minor": 5
}
